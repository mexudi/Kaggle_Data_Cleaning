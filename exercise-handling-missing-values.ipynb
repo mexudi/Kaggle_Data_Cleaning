{
 "cells": [
  {
   "cell_type": "markdown",
   "metadata": {},
   "source": [
    "**This notebook is an exercise in the [Data Cleaning](https://www.kaggle.com/learn/data-cleaning) course.  You can reference the tutorial at [this link](https://www.kaggle.com/alexisbcook/handling-missing-values).**\n",
    "\n",
    "---\n"
   ]
  },
  {
   "cell_type": "markdown",
   "metadata": {},
   "source": [
    "In this exercise, you'll apply what you learned in the **Handling missing values** tutorial.\n",
    "\n",
    "# Setup\n",
    "\n",
    "The questions below will give you feedback on your work. Run the following cell to set up the feedback system."
   ]
  },
  {
   "cell_type": "code",
   "execution_count": null,
   "metadata": {
    "execution": {
     "iopub.execute_input": "2022-07-11T10:26:57.443176Z",
     "iopub.status.busy": "2022-07-11T10:26:57.442763Z",
     "iopub.status.idle": "2022-07-11T10:27:02.151582Z",
     "shell.execute_reply": "2022-07-11T10:27:02.150096Z",
     "shell.execute_reply.started": "2022-07-11T10:26:57.443143Z"
    }
   },
   "outputs": [],
   "source": [
    "from learntools.core import binder\n",
    "binder.bind(globals())\n",
    "from learntools.data_cleaning.ex1 import *\n",
    "print(\"Setup Complete\")"
   ]
  },
  {
   "cell_type": "markdown",
   "metadata": {},
   "source": [
    "# 1) Take a first look at the data\n",
    "\n",
    "Run the next code cell to load in the libraries and dataset you'll use to complete the exercise."
   ]
  },
  {
   "cell_type": "code",
   "execution_count": null,
   "metadata": {
    "execution": {
     "iopub.execute_input": "2022-07-11T10:27:02.155111Z",
     "iopub.status.busy": "2022-07-11T10:27:02.154227Z",
     "iopub.status.idle": "2022-07-11T10:27:03.909385Z",
     "shell.execute_reply": "2022-07-11T10:27:03.907995Z",
     "shell.execute_reply.started": "2022-07-11T10:27:02.155074Z"
    }
   },
   "outputs": [],
   "source": [
    "# modules we'll use\n",
    "import pandas as pd\n",
    "import numpy as np\n",
    "\n",
    "# read in all our data\n",
    "sf_permits = pd.read_csv(\"Building_Permits.csv\")\n",
    "\n",
    "# set seed for reproducibility\n",
    "np.random.seed(0) "
   ]
  },
  {
   "cell_type": "markdown",
   "metadata": {},
   "source": [
    "Use the code cell below to print the first five rows of the `sf_permits` DataFrame."
   ]
  },
  {
   "cell_type": "code",
   "execution_count": null,
   "metadata": {
    "execution": {
     "iopub.execute_input": "2022-07-11T10:27:03.912375Z",
     "iopub.status.busy": "2022-07-11T10:27:03.912019Z",
     "iopub.status.idle": "2022-07-11T10:27:03.957222Z",
     "shell.execute_reply": "2022-07-11T10:27:03.956346Z",
     "shell.execute_reply.started": "2022-07-11T10:27:03.912344Z"
    }
   },
   "outputs": [],
   "source": [
    "# TODO: Your code here!\n",
    "sf_permits.head(5)\n"
   ]
  },
  {
   "cell_type": "markdown",
   "metadata": {},
   "source": [
    "Does the dataset have any missing values?  Once you have an answer, run the code cell below to get credit for your work."
   ]
  },
  {
   "cell_type": "code",
   "execution_count": null,
   "metadata": {
    "execution": {
     "iopub.execute_input": "2022-07-11T10:27:03.960275Z",
     "iopub.status.busy": "2022-07-11T10:27:03.959643Z",
     "iopub.status.idle": "2022-07-11T10:27:03.969193Z",
     "shell.execute_reply": "2022-07-11T10:27:03.968245Z",
     "shell.execute_reply.started": "2022-07-11T10:27:03.960219Z"
    }
   },
   "outputs": [],
   "source": [
    "# Check your answer (Run this code cell to receive credit!)\n",
    "q1.check()"
   ]
  },
  {
   "cell_type": "code",
   "execution_count": null,
   "metadata": {
    "execution": {
     "iopub.execute_input": "2022-07-11T10:27:03.971337Z",
     "iopub.status.busy": "2022-07-11T10:27:03.970691Z",
     "iopub.status.idle": "2022-07-11T10:27:03.977666Z",
     "shell.execute_reply": "2022-07-11T10:27:03.976783Z",
     "shell.execute_reply.started": "2022-07-11T10:27:03.9713Z"
    }
   },
   "outputs": [],
   "source": [
    "# Line below will give you a hint\n",
    "#q1.hint()"
   ]
  },
  {
   "cell_type": "markdown",
   "metadata": {},
   "source": [
    "# 2) How many missing data points do we have?\n",
    "\n",
    "What percentage of the values in the dataset are missing?  Your answer should be a number between 0 and 100.  (If 1/4 of the values in the dataset are missing, the answer is 25.)"
   ]
  },
  {
   "cell_type": "code",
   "execution_count": null,
   "metadata": {
    "execution": {
     "iopub.execute_input": "2022-07-11T10:39:22.784576Z",
     "iopub.status.busy": "2022-07-11T10:39:22.784231Z",
     "iopub.status.idle": "2022-07-11T10:39:23.295514Z",
     "shell.execute_reply": "2022-07-11T10:39:23.29415Z",
     "shell.execute_reply.started": "2022-07-11T10:39:22.784548Z"
    }
   },
   "outputs": [],
   "source": [
    "# TODO: Your code here!\n",
    "percent_missing = sf_permits.isna().sum().sum()*100/(len(sf_permits.columns)*len(sf_permits.index))\n",
    "\n",
    "# Check your answer\n",
    "q2.check()"
   ]
  },
  {
   "cell_type": "code",
   "execution_count": null,
   "metadata": {
    "execution": {
     "iopub.execute_input": "2022-07-11T10:27:03.995906Z",
     "iopub.status.busy": "2022-07-11T10:27:03.995282Z",
     "iopub.status.idle": "2022-07-11T10:27:04.000542Z",
     "shell.execute_reply": "2022-07-11T10:27:03.999664Z",
     "shell.execute_reply.started": "2022-07-11T10:27:03.995873Z"
    }
   },
   "outputs": [],
   "source": [
    "# Lines below will give you a hint or solution code\n",
    "#q2.hint()\n",
    "#q2.solution()"
   ]
  },
  {
   "cell_type": "markdown",
   "metadata": {},
   "source": [
    "# 3) Figure out why the data is missing\n",
    "\n",
    "Look at the columns **\"Street Number Suffix\"** and **\"Zipcode\"** from the [San Francisco Building Permits dataset](https://www.kaggle.com/aparnashastry/building-permit-applications-data). Both of these contain missing values. \n",
    "- Which, if either, are missing because they don't exist? \n",
    "- Which, if either, are missing because they weren't recorded?  \n",
    "\n",
    "Once you have an answer, run the code cell below."
   ]
  },
  {
   "cell_type": "code",
   "execution_count": 21,
   "metadata": {
    "execution": {
     "iopub.execute_input": "2022-07-11T10:59:30.681579Z",
     "iopub.status.busy": "2022-07-11T10:59:30.681049Z",
     "iopub.status.idle": "2022-07-11T10:59:30.698582Z",
     "shell.execute_reply": "2022-07-11T10:59:30.696839Z",
     "shell.execute_reply.started": "2022-07-11T10:59:30.681522Z"
    }
   },
   "outputs": [],
   "source": [
    "# Check your answer (Run this code cell to receive credit!)\n",
    "q3.check()"
   ]
  },
  {
   "cell_type": "code",
   "execution_count": null,
   "metadata": {
    "execution": {
     "iopub.execute_input": "2022-07-11T10:27:04.022991Z",
     "iopub.status.busy": "2022-07-11T10:27:04.022284Z",
     "iopub.status.idle": "2022-07-11T10:27:04.029187Z",
     "shell.execute_reply": "2022-07-11T10:27:04.027793Z",
     "shell.execute_reply.started": "2022-07-11T10:27:04.022945Z"
    }
   },
   "outputs": [],
   "source": [
    "# Line below will give you a hint\n",
    "#q3.hint()"
   ]
  },
  {
   "cell_type": "markdown",
   "metadata": {},
   "source": [
    "# 4) Drop missing values: rows\n",
    "\n",
    "If you removed all of the rows of `sf_permits` with missing values, how many rows are left?\n",
    "\n",
    "**Note**: Do not change the value of `sf_permits` when checking this.  "
   ]
  },
  {
   "cell_type": "code",
   "execution_count": 25,
   "metadata": {
    "execution": {
     "iopub.execute_input": "2022-07-11T11:04:18.647844Z",
     "iopub.status.busy": "2022-07-11T11:04:18.647343Z",
     "iopub.status.idle": "2022-07-11T11:04:19.160442Z",
     "shell.execute_reply": "2022-07-11T11:04:19.159250Z",
     "shell.execute_reply.started": "2022-07-11T11:04:18.647807Z"
    }
   },
   "outputs": [],
   "source": [
    "# TODO: Your code here!\n",
    "len(sf_permits.dropna().index)"
   ]
  },
  {
   "cell_type": "markdown",
   "metadata": {},
   "source": [
    "Once you have an answer, run the code cell below."
   ]
  },
  {
   "cell_type": "code",
   "execution_count": 26,
   "metadata": {
    "execution": {
     "iopub.execute_input": "2022-07-11T11:04:24.319462Z",
     "iopub.status.busy": "2022-07-11T11:04:24.318808Z",
     "iopub.status.idle": "2022-07-11T11:04:24.327419Z",
     "shell.execute_reply": "2022-07-11T11:04:24.326597Z",
     "shell.execute_reply.started": "2022-07-11T11:04:24.319425Z"
    }
   },
   "outputs": [],
   "source": [
    "# Check your answer (Run this code cell to receive credit!)\n",
    "q4.check()"
   ]
  },
  {
   "cell_type": "code",
   "execution_count": 24,
   "metadata": {
    "execution": {
     "iopub.execute_input": "2022-07-11T11:02:30.652273Z",
     "iopub.status.busy": "2022-07-11T11:02:30.651838Z",
     "iopub.status.idle": "2022-07-11T11:02:30.662266Z",
     "shell.execute_reply": "2022-07-11T11:02:30.661435Z",
     "shell.execute_reply.started": "2022-07-11T11:02:30.652241Z"
    }
   },
   "outputs": [],
   "source": [
    "# Line below will give you a hint\n",
    "q4.hint()"
   ]
  },
  {
   "cell_type": "markdown",
   "metadata": {},
   "source": [
    "# 5) Drop missing values: columns\n",
    "\n",
    "Now try removing all the columns with empty values.  \n",
    "- Create a new DataFrame called `sf_permits_with_na_dropped` that has all of the columns with empty values removed.  \n",
    "- How many columns were removed from the original `sf_permits` DataFrame? Use this number to set the value of the `dropped_columns` variable below."
   ]
  },
  {
   "cell_type": "code",
   "execution_count": 27,
   "metadata": {
    "execution": {
     "iopub.execute_input": "2022-07-11T11:08:11.010996Z",
     "iopub.status.busy": "2022-07-11T11:08:11.010325Z",
     "iopub.status.idle": "2022-07-11T11:08:11.562236Z",
     "shell.execute_reply": "2022-07-11T11:08:11.560920Z",
     "shell.execute_reply.started": "2022-07-11T11:08:11.010944Z"
    }
   },
   "outputs": [],
   "source": [
    "# TODO: Your code here\n",
    "sf_permits_with_na_dropped = sf_permits.dropna(axis=1)\n",
    "\n",
    "dropped_columns = len(sf_permits.columns) - len(sf_permits_with_na_dropped.columns)\n",
    "\n",
    "# Check your answer\n",
    "q5.check()"
   ]
  },
  {
   "cell_type": "code",
   "execution_count": 28,
   "metadata": {
    "execution": {
     "iopub.execute_input": "2022-07-11T11:08:21.702172Z",
     "iopub.status.busy": "2022-07-11T11:08:21.701668Z",
     "iopub.status.idle": "2022-07-11T11:08:21.713483Z",
     "shell.execute_reply": "2022-07-11T11:08:21.712323Z",
     "shell.execute_reply.started": "2022-07-11T11:08:21.702139Z"
    }
   },
   "outputs": [],
   "source": [
    "# Lines below will give you a hint or solution code\n",
    "#q5.hint()\n",
    "q5.solution()"
   ]
  },
  {
   "cell_type": "markdown",
   "metadata": {},
   "source": [
    "# 6) Fill in missing values automatically\n",
    "\n",
    "Try replacing all the NaN's in the `sf_permits` data with the one that comes directly after it and then replacing any remaining NaN's with 0.  Set the result to a new DataFrame `sf_permits_with_na_imputed`."
   ]
  },
  {
   "cell_type": "code",
   "execution_count": 29,
   "metadata": {
    "execution": {
     "iopub.execute_input": "2022-07-11T11:10:59.137113Z",
     "iopub.status.busy": "2022-07-11T11:10:59.136618Z",
     "iopub.status.idle": "2022-07-11T11:10:59.768669Z",
     "shell.execute_reply": "2022-07-11T11:10:59.767528Z",
     "shell.execute_reply.started": "2022-07-11T11:10:59.137079Z"
    }
   },
   "outputs": [],
   "source": [
    "# TODO: Your code here\n",
    "sf_permits_with_na_imputed = sf_permits.fillna(method='bfill')\n",
    "\n",
    "# Check your answer\n",
    "q6.check()"
   ]
  },
  {
   "cell_type": "code",
   "execution_count": null,
   "metadata": {
    "execution": {
     "iopub.execute_input": "2022-07-11T10:27:04.108878Z",
     "iopub.status.busy": "2022-07-11T10:27:04.108187Z",
     "iopub.status.idle": "2022-07-11T10:27:04.116047Z",
     "shell.execute_reply": "2022-07-11T10:27:04.115046Z",
     "shell.execute_reply.started": "2022-07-11T10:27:04.108834Z"
    }
   },
   "outputs": [],
   "source": [
    "# Lines below will give you a hint or solution code\n",
    "#q6.hint()\n",
    "#q6.solution()"
   ]
  },
  {
   "cell_type": "markdown",
   "metadata": {},
   "source": [
    "# More practice\n",
    "\n",
    "If you're looking for more practice handling missing values:\n",
    "\n",
    "* Check out [this noteboook](https://www.kaggle.com/alexisbcook/missing-values) on handling missing values using scikit-learn's imputer. \n",
    "* Look back at the \"Zipcode\" column in the `sf_permits` dataset, which has some missing values. How would you go about figuring out what the actual zipcode of each address should be? (You might try using another dataset. You can search for datasets about San Fransisco on the [Datasets listing](https://www.kaggle.com/datasets).) \n",
    "\n",
    "# Keep going\n",
    "\n",
    "In the next lesson, learn how to [**apply scaling and normalization**](https://www.kaggle.com/alexisbcook/scaling-and-normalization) to transform your data."
   ]
  },
  {
   "cell_type": "markdown",
   "metadata": {},
   "source": [
    "---\n",
    "\n",
    "\n",
    "\n",
    "\n",
    "*Have questions or comments? Visit the [course discussion forum](https://www.kaggle.com/learn/data-cleaning/discussion) to chat with other learners.*"
   ]
  }
 ],
 "metadata": {
  "kernelspec": {
   "display_name": "Python 3 (ipykernel)",
   "language": "python",
   "name": "python3"
  },
  "language_info": {
   "codemirror_mode": {
    "name": "ipython",
    "version": 3
   },
   "file_extension": ".py",
   "mimetype": "text/x-python",
   "name": "python",
   "nbconvert_exporter": "python",
   "pygments_lexer": "ipython3",
   "version": "3.10.0"
  }
 },
 "nbformat": 4,
 "nbformat_minor": 4
}
